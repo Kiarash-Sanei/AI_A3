{
  "cells": [
    {
      "cell_type": "markdown",
      "metadata": {
        "id": "O8sQckN6DF5D"
      },
      "source": [
        "\n",
        "\n",
        "<br>\n",
        "<font>\n",
        "<div dir=ltr align=center>\n",
        "<font color=0F5298 size=7>\n",
        "    Artificial Intelligence <br>\n",
        "<font color=2565AE size=5>\n",
        "    Computer Engineering Department <br>\n",
        "    Spring 2025<br>\n",
        "<font color=3C99D size=5>\n",
        "    Practical Assignment 3\n",
        "    <br>\n",
        "     Hidden Markov Models -Bayes Net <br>\n",
        "<font color=696880 size=4>\n",
        "Amirardalan Dehghanpour\n"
      ]
    },
    {
      "cell_type": "markdown",
      "metadata": {
        "id": "eE3xCU5zDZz5"
      },
      "source": [
        "Kiarash Sanei 402106156"
      ]
    },
    {
      "cell_type": "markdown",
      "metadata": {
        "id": "4tLpNArbDoYg"
      },
      "source": [
        "# HMM Assignment\n",
        "\n",
        " –Sequence Modeling with Hidden Markov Models (HMM)\n",
        "\n",
        "## Part 1: HMM Models\n",
        "\n",
        "\n",
        "Introduce the concept of Hidden Markov Models (HMMs) and their applications in sequence modeling.\n",
        "\n",
        "### -What is an HMM?\n",
        "A Hidden Markov Model is a statistical model that represents systems with:\n",
        "1. **Hidden states** – not directly observable (e.g., phonemes, weather conditions, gene regions).\n",
        "2. **Observable outputs** – emitted signals or features (e.g., audio features, weather observations).\n",
        "\n",
        "### - Key Components of an HMM:\n",
        "- **States (Z)**: Hidden variables (e.g., phonemes in speech recognition).\n",
        "- **Observations (X)**: Observable features (e.g., MFCCs from audio).\n",
        "- **Initial Probabilities (π)**: Probability of starting in a particular state.\n",
        "- **Transition Probabilities (A)**: Probability of moving from one state to another.\n",
        "- **Emission Probabilities (B)**: Probability of observing a value given a state.\n",
        "\n",
        "### -HMM Process Overview:\n",
        "At each time step `t`, the system:\n",
        "1. Transitions from one state to another using **transition probability A**\n",
        "2. Emits an observation using **emission probability B**\n",
        "\n",
        "### - Why Use HMMs?\n",
        "HMMs are useful for modeling sequential data where the underlying structure is hidden but can be inferred from observations.\n",
        "\n",
        "#### Example Applications:\n",
        "- **Speech Recognition** – Infer phonemes from audio features\n",
        "- **Natural Language Processing** – POS tagging, named entity recognition\n",
        "- **Bioinformatics** – Identify coding vs. non-coding DNA regions\n",
        "- **Finance** – Regime detection in time series\n",
        "\n",
        "---\n",
        "\n",
        " In this part, we will:\n",
        "- Work with dna datasets\n",
        "- Extract HMM parameters from data\n",
        "- Implement HMM algorithms from scratch\n",
        "- Visualize results to understand hidden sequences\n",
        "\n"
      ]
    },
    {
      "cell_type": "markdown",
      "metadata": {
        "id": "5vfdLALvSqrO"
      },
      "source": [
        "## Part 2: Extract HMM Parameters from DNA Dataset ##\n",
        "\n",
        "In this section, you'll use a labeled DNA dataset to extract the core parameters of a Hidden Markov Model:\n",
        "- **Initial Probabilities** – likelihood of starting in a specific hidden state\n",
        "- **Transition Matrix** – probabilities of switching from one hidden state to another\n",
        "- **Emission Matrix** – probabilities of emitting a specific observation given the hidden state\n",
        "\n",
        "We are given labeled sequences of DNA nucleotides with associated hidden states (`Coding` or `NonCoding`). Using this, we can compute the HMM parameters as follows:\n",
        "\n",
        "\n",
        "####  Initial Probabilities (π)\n",
        "- For each sequence, check the **first position** (Position == 1).\n",
        "- Count how many times each hidden state appears at the start.\n",
        "- Normalize the counts to get the starting probability distribution.\n",
        "\n",
        "####  Transition Probabilities (A)\n",
        "- For each sequence, look at every **pair of consecutive states** (from Position _t_ to _t+1_).\n",
        "- Count how often each transition occurs (e.g., Coding → Coding, Coding → NonCoding).\n",
        "- For each state, normalize its outgoing transition counts to sum to 1.\n",
        "\n",
        "####  Emission Probabilities (B)\n",
        "- For each state, count how frequently it emits each nucleotide (A, C, G, T).\n",
        "- Normalize these counts within each state.\n",
        "\n",
        "This method is based on **maximum likelihood estimation(MLE)** using frequency counts, which is valid because we have access to the true hidden states.\n",
        "These parameters will be used in later for performing inference (Forward/Viterbi).\n",
        "\n"
      ]
    },
    {
      "cell_type": "markdown",
      "metadata": {
        "id": "pEoz9XPzVHFV"
      },
      "source": [
        " ## Load the Dataset ##"
      ]
    },
    {
      "cell_type": "code",
      "execution_count": 1,
      "metadata": {
        "colab": {
          "base_uri": "https://localhost:8080/",
          "height": 206
        },
        "id": "5lnwp1Xh72Rh",
        "outputId": "413026ad-f448-4e69-f6e3-c22fde916195"
      },
      "outputs": [
        {
          "data": {
            "text/html": [
              "<div>\n",
              "<style scoped>\n",
              "    .dataframe tbody tr th:only-of-type {\n",
              "        vertical-align: middle;\n",
              "    }\n",
              "\n",
              "    .dataframe tbody tr th {\n",
              "        vertical-align: top;\n",
              "    }\n",
              "\n",
              "    .dataframe thead th {\n",
              "        text-align: right;\n",
              "    }\n",
              "</style>\n",
              "<table border=\"1\" class=\"dataframe\">\n",
              "  <thead>\n",
              "    <tr style=\"text-align: right;\">\n",
              "      <th></th>\n",
              "      <th>Sequence_ID</th>\n",
              "      <th>Position</th>\n",
              "      <th>Nucleotide</th>\n",
              "      <th>State</th>\n",
              "    </tr>\n",
              "  </thead>\n",
              "  <tbody>\n",
              "    <tr>\n",
              "      <th>0</th>\n",
              "      <td>1</td>\n",
              "      <td>1</td>\n",
              "      <td>A</td>\n",
              "      <td>Coding</td>\n",
              "    </tr>\n",
              "    <tr>\n",
              "      <th>1</th>\n",
              "      <td>1</td>\n",
              "      <td>2</td>\n",
              "      <td>G</td>\n",
              "      <td>NonCoding</td>\n",
              "    </tr>\n",
              "    <tr>\n",
              "      <th>2</th>\n",
              "      <td>1</td>\n",
              "      <td>3</td>\n",
              "      <td>G</td>\n",
              "      <td>Coding</td>\n",
              "    </tr>\n",
              "    <tr>\n",
              "      <th>3</th>\n",
              "      <td>1</td>\n",
              "      <td>4</td>\n",
              "      <td>A</td>\n",
              "      <td>NonCoding</td>\n",
              "    </tr>\n",
              "    <tr>\n",
              "      <th>4</th>\n",
              "      <td>1</td>\n",
              "      <td>5</td>\n",
              "      <td>T</td>\n",
              "      <td>Coding</td>\n",
              "    </tr>\n",
              "  </tbody>\n",
              "</table>\n",
              "</div>"
            ],
            "text/plain": [
              "   Sequence_ID  Position Nucleotide      State\n",
              "0            1         1          A     Coding\n",
              "1            1         2          G  NonCoding\n",
              "2            1         3          G     Coding\n",
              "3            1         4          A  NonCoding\n",
              "4            1         5          T     Coding"
            ]
          },
          "execution_count": 1,
          "metadata": {},
          "output_type": "execute_result"
        }
      ],
      "source": [
        "import pandas as pd\n",
        "import numpy as np\n",
        "\n",
        "df = pd.read_csv('dna_dataset.csv')\n",
        "\n",
        "df.head()"
      ]
    },
    {
      "cell_type": "markdown",
      "metadata": {
        "id": "iI3SDp-GVp_B"
      },
      "source": [
        "## Identify Unique States and Observations ##"
      ]
    },
    {
      "cell_type": "code",
      "execution_count": null,
      "metadata": {
        "colab": {
          "base_uri": "https://localhost:8080/"
        },
        "id": "vElphboOUiMJ",
        "outputId": "0aae494f-e43b-46f3-fb29-0ac93001be50"
      },
      "outputs": [
        {
          "name": "stdout",
          "output_type": "stream",
          "text": [
            "States: ['Coding' 'NonCoding']\n",
            "Observations: ['A' 'G' 'T' 'C']\n"
          ]
        }
      ],
      "source": [
        "states = df['State'].unique()\n",
        "\n",
        "observations = df['Nucleotide'].unique()\n",
        "\n",
        "print(\"States:\", states)\n",
        "print(\"Observations:\", observations)"
      ]
    },
    {
      "cell_type": "markdown",
      "metadata": {
        "id": "Z8QHyg9MVtHU"
      },
      "source": [
        "## Estimate Initial Probabilities (π) ##"
      ]
    },
    {
      "cell_type": "code",
      "execution_count": 9,
      "metadata": {
        "colab": {
          "base_uri": "https://localhost:8080/"
        },
        "id": "khYvv2bNU1mK",
        "outputId": "68fe1984-264a-49bd-b8d8-470704c3d119"
      },
      "outputs": [
        {
          "name": "stdout",
          "output_type": "stream",
          "text": [
            "Initial Probabilities (π):\n",
            "NonCoding → 0.51\n",
            "Coding → 0.49\n"
          ]
        }
      ],
      "source": [
        "first_states = df.groupby('Sequence_ID').first()['State']\n",
        "\n",
        "initial_counts = first_states.value_counts()\n",
        "\n",
        "initial_probs = initial_counts / initial_counts.sum()\n",
        "\n",
        "print(\"Initial Probabilities (π):\")\n",
        "for state, prob in initial_probs.items():\n",
        "    print(state, \"→\", prob)"
      ]
    },
    {
      "cell_type": "markdown",
      "metadata": {
        "id": "XfFEhXMBV07a"
      },
      "source": [
        "## Estimate Transition Probabilities (A) ##"
      ]
    },
    {
      "cell_type": "code",
      "execution_count": 7,
      "metadata": {
        "colab": {
          "base_uri": "https://localhost:8080/"
        },
        "id": "ha88YAjyU8Ry",
        "outputId": "160e0b03-0ba3-4bbc-e7c5-8e3b17317bb9"
      },
      "outputs": [
        {
          "name": "stdout",
          "output_type": "stream",
          "text": [
            "Transition Probabilities (A):\n",
            "Coding → {'Coding': 0.4450775142440705, 'NonCoding': 0.5549224857559295}\n",
            "NonCoding → {'Coding': 0.5823615160349854, 'NonCoding': 0.4176384839650146}\n"
          ]
        }
      ],
      "source": [
        "df['Next_State'] = df.groupby('Sequence_ID')['State'].shift(-1)\n",
        "\n",
        "transitions = df.dropna(subset=['Next_State'])\n",
        "\n",
        "transition_counts = transitions.groupby(['State', 'Next_State']).size().unstack(fill_value=0)\n",
        "\n",
        "transition_probs = transition_counts.div(transition_counts.sum(axis=1), axis=0).to_dict(orient='index')\n",
        "\n",
        "print(\"Transition Probabilities (A):\")\n",
        "for from_state, to_probs in transition_probs.items():\n",
        "    print(from_state, \"→\", to_probs)"
      ]
    },
    {
      "cell_type": "markdown",
      "metadata": {
        "id": "wHCLsebTV3-Q"
      },
      "source": [
        "## Estimate Emission Probabilities (B) ##"
      ]
    },
    {
      "cell_type": "code",
      "execution_count": 8,
      "metadata": {
        "colab": {
          "base_uri": "https://localhost:8080/"
        },
        "id": "golvyftIVATT",
        "outputId": "d5c7ccad-88b5-4b84-fcea-207b862f33a3"
      },
      "outputs": [
        {
          "name": "stdout",
          "output_type": "stream",
          "text": [
            "Emission Probabilities (B):\n",
            "Coding → {'A': 0.2556261195245074, 'C': 0.2506757857026543, 'G': 0.24950333821853118, 'T': 0.2441947565543071}\n",
            "NonCoding → {'A': 0.35343915343915344, 'C': 0.14794333504010923, 'G': 0.1501962792285373, 'T': 0.3484212322922}\n"
          ]
        }
      ],
      "source": [
        "emission_counts = df.groupby(['State', 'Nucleotide']).size().unstack(fill_value=0)\n",
        "\n",
        "emission_probs = emission_counts.div(emission_counts.sum(axis=1), axis=0).to_dict(orient='index')\n",
        "\n",
        "print(\"Emission Probabilities (B):\")\n",
        "for state, probs in emission_probs.items():\n",
        "    print(state, \"→\", probs)"
      ]
    },
    {
      "cell_type": "markdown",
      "metadata": {
        "id": "l-3vE9r9Ko5P"
      },
      "source": [
        "## Part 4: Forward Algorithm (Filtering with Elapse Time + Observation)\n",
        "\n",
        "The **Forward Algorithm** helps us compute the probability of an observation sequence in a Hidden Markov Model (HMM). It also gives us the belief about the system's hidden state at each time step.\n",
        "\n",
        "To do this, it recursively applies two updates at each time step `t`:\n",
        "\n",
        "\n",
        "###  Step 1: Elapse Time (Prediction)\n",
        "Predict the probability of being in each hidden state at time `t`, before seeing the new observation:\n",
        "\n",
        "$$\n",
        "P(x_t | e_{1:t-1}) = \\sum_{x_{t-1}} P(x_t | x_{t-1}) \\cdot P(x_{t-1} | e_{1:t-1})\n",
        "$$\n",
        "\n",
        "This uses the **transition probabilities (A)** and previous beliefs.\n",
        "\n",
        "\n",
        "###  Step 2: Observation Update (Bayesian Update)\n",
        "Once we see the new observation `e_t`, we update our beliefs:\n",
        "\n",
        "$$\n",
        "P(x_t | e_{1:t}) \\propto P(e_t | x_t) \\cdot P(x_t | e_{1:t-1})\n",
        "$$\n",
        "\n",
        "This uses the **emission probabilities (B)** and normalizes the result.\n",
        "\n",
        "\n",
        "### Final Result:\n",
        "- We maintain a belief `α_t(x)` for each state `x` at every time step.\n",
        "- We can compute the total probability of the sequence by summing the final α values.\n",
        "\n"
      ]
    },
    {
      "cell_type": "code",
      "execution_count": 10,
      "metadata": {
        "id": "-nkAkw2cKppj"
      },
      "outputs": [],
      "source": [
        "def elapse_time(prior, transition_probs, states):\n",
        "    prediction = {}\n",
        "    \n",
        "    for state in states:\n",
        "        prediction[state] = sum(\n",
        "            prior[prev_state] * transition_probs[prev_state].get(state, 0)\n",
        "            for prev_state in states\n",
        "        )\n",
        "    \n",
        "    return prediction"
      ]
    },
    {
      "cell_type": "code",
      "execution_count": 11,
      "metadata": {
        "id": "5Dptj_FYQ_5o"
      },
      "outputs": [],
      "source": [
        "def observe(predicted, observation, emission_probs, states):\n",
        "    updated = {}\n",
        "\n",
        "    for state in states:\n",
        "        updated[state] = predicted[state] * emission_probs[state].get(observation, 0)\n",
        "    \n",
        "    total_prob = sum(updated.values())\n",
        "    \n",
        "    if total_prob > 0:\n",
        "        updated = {state: prob / total_prob for state, prob in updated.items()}\n",
        "    \n",
        "    return updated"
      ]
    },
    {
      "cell_type": "code",
      "execution_count": 12,
      "metadata": {
        "id": "JFWK3lT5REqP"
      },
      "outputs": [],
      "source": [
        "def forward_algorithm(observation_sequence, states, start_probs, transition_probs, emission_probs):\n",
        "    alpha_list = []\n",
        "\n",
        "    alpha_0 = {}\n",
        "    for state in states:\n",
        "        alpha_0[state] = start_probs.get(state, 0) * emission_probs[state].get(observation_sequence[0], 0)\n",
        "\n",
        "    total_prob_0 = sum(alpha_0.values())\n",
        "    if total_prob_0 > 0:\n",
        "        alpha_0 = {state: prob / total_prob_0 for state, prob in alpha_0.items()}\n",
        "    \n",
        "    alpha_list.append(alpha_0)\n",
        "\n",
        "    for t in range(1, len(observation_sequence)):\n",
        "        observation = observation_sequence[t]\n",
        "        alpha_t = {}\n",
        "        \n",
        "        for state in states:\n",
        "            alpha_t[state] = sum(\n",
        "                alpha_list[t-1][prev_state] * transition_probs[prev_state].get(state, 0) * emission_probs[state].get(observation, 0)\n",
        "                for prev_state in states\n",
        "            )\n",
        "\n",
        "        total_prob_t = sum(alpha_t.values())\n",
        "        if total_prob_t > 0:\n",
        "            alpha_t = {state: prob / total_prob_t for state, prob in alpha_t.items()}\n",
        "        \n",
        "        alpha_list.append(alpha_t)\n",
        "\n",
        "    sequence_prob = sum(alpha_list[-1].values())\n",
        "    \n",
        "    return alpha_list, sequence_prob"
      ]
    },
    {
      "cell_type": "code",
      "execution_count": 13,
      "metadata": {
        "colab": {
          "base_uri": "https://localhost:8080/"
        },
        "id": "s47NIILHSJ9h",
        "outputId": "93cdeeaa-ef31-41ca-b606-aeea33ae090d"
      },
      "outputs": [
        {
          "name": "stdout",
          "output_type": "stream",
          "text": [
            "\n",
            "Total probability of sequence ['A', 'C', 'C', 'T', 'T', 'T', 'A', 'G']: 1.000000\n",
            "\n",
            "Belief at final time step:\n",
            "P(Coding) = 0.6443\n",
            "P(NonCoding) = 0.3557\n"
          ]
        }
      ],
      "source": [
        "test_sequence = ['A','C','C','T','T','T','A','G']\n",
        "\n",
        "alpha_vals, prob = forward_algorithm(\n",
        "    test_sequence,\n",
        "    states,\n",
        "    initial_probs,\n",
        "    transition_probs,\n",
        "    emission_probs\n",
        ")\n",
        "\n",
        "print(f\"\\nTotal probability of sequence {test_sequence}: {prob:.6f}\")\n",
        "print(\"\\nBelief at final time step:\")\n",
        "for state, p in alpha_vals[-1].items():\n",
        "    print(f\"P({state}) = {p:.4f}\")\n"
      ]
    },
    {
      "cell_type": "markdown",
      "metadata": {
        "id": "bU1YBOafTy9z"
      },
      "source": [
        "## Part 5: Viterbi Algorithm – Most Likely State Sequence\n",
        "\n",
        "While the Forward Algorithm gives us the probability of a sequence of observations, the **Viterbi Algorithm** answers a different question:\n",
        "\n",
        "> What is the **most likely sequence of hidden states** that could have generated this observation sequence?\n",
        "\n",
        "\n",
        "\n",
        "The Viterbi Algorithm is a dynamic programming approach. At each time step `t`, it keeps track of:\n",
        "\n",
        "- The **highest probability path** to each state.\n",
        "- A **backpointer** that tells us which state led to that one.\n",
        "\n",
        "###  Two Main Steps:\n",
        "\n",
        "1. **Recursion (Forward Pass):**\n",
        "$$\n",
        "\\delta_t(s) = \\max_{s'} [\\delta_{t-1}(s') \\cdot P(s | s')] \\cdot P(obs_t | s)\n",
        "$$\n",
        "\n",
        "2. **Backtracking (Backward Pass):**\n",
        "$$\n",
        "\\text{Backtrace from final best state} \\rightarrow \\text{recover most likely path}\n",
        "$$\n",
        "\n",
        "\n",
        "\n"
      ]
    },
    {
      "cell_type": "code",
      "execution_count": null,
      "metadata": {
        "id": "hwHMxaPHUM4E"
      },
      "outputs": [],
      "source": [
        "def viterbi(obs, states, start_p, trans_p, emit_p):\n",
        "    \"\"\"\n",
        "    Viterbi algorithm to find the most probable sequence of hidden states.\n",
        "\n",
        "    Parameters:\n",
        "    - obs: list of observations (e.g., ['A', 'C', 'T', ...])\n",
        "    - states: list of hidden states (e.g., ['Coding', 'NonCoding'])\n",
        "    - start_p: initial state probabilities\n",
        "    - trans_p: transition probability matrix\n",
        "    - emit_p: emission probability matrix\n",
        "\n",
        "    Returns:\n",
        "    - prob: probability of the most likely state sequence\n",
        "    - path: list of most likely hidden states\n",
        "    \"\"\"\n"
      ]
    },
    {
      "cell_type": "code",
      "execution_count": null,
      "metadata": {
        "colab": {
          "base_uri": "https://localhost:8080/"
        },
        "id": "DJoOChkcUR6V",
        "outputId": "beac094a-99bb-4124-8e56-a7f8b8d1dede"
      },
      "outputs": [
        {
          "name": "stdout",
          "output_type": "stream",
          "text": [
            "Observation sequence: ['A', 'C', 'G', 'T', 'A', 'A', 'C', 'C', 'C', 'A']\n",
            "Most likely state sequence: ['NonCoding', 'Coding', 'Coding', 'NonCoding', 'Coding', 'NonCoding', 'Coding', 'Coding', 'Coding', 'NonCoding']\n",
            "Probability of this path: 5.879383986938688e-09\n"
          ]
        }
      ],
      "source": [
        "obs_seq = ['A', 'C', 'G', 'T', 'A','A', 'C', 'C', 'C', 'A']\n",
        "\n",
        "prob, most_likely_path = viterbi(\n",
        "    obs_seq,\n",
        "    states,\n",
        "    initial_probs,\n",
        "    transition_probs,\n",
        "    emission_probs\n",
        ")\n",
        "\n",
        "print(\"Observation sequence:\", obs_seq)\n",
        "print(\"Most likely state sequence:\", most_likely_path)\n",
        "print(\"Probability of this path:\", prob)\n",
        "\n"
      ]
    },
    {
      "cell_type": "markdown",
      "metadata": {
        "id": "SBJ0kz6_n-V3"
      },
      "source": [
        "## Part 6: Visualizing the Most Likely Hidden State Sequence (Viterbi Path)\n",
        "\n",
        "After using the Viterbi algorithm, we get the **most likely sequence of hidden states** that could have produced the given observations.\n",
        "\n",
        "In this part, we'll:\n",
        "1. Visually display the Viterbi path over time.\n",
        "2. Compare it with the **true hidden state sequence** (if known).\n",
        "3. Visualize it on top of the **Forward Algorithm belief heatmap**.\n",
        "\n",
        "This helps understand where the model is confident, where it might be uncertain, and how accurate the predictions are.\n"
      ]
    },
    {
      "cell_type": "code",
      "execution_count": null,
      "metadata": {
        "id": "V2ik15hooGq0"
      },
      "outputs": [],
      "source": [
        "import matplotlib.pyplot as plt\n",
        "\n",
        "def plot_viterbi_path(viterbi_path, states, title=\"Viterbi Most Likely Path\"):\n",
        "    \"\"\"\n",
        "    Plots the Viterbi path as a timeline of states.\n",
        "\n",
        "    Parameters:\n",
        "    - viterbi_path: list of predicted states from Viterbi algorithm\n",
        "    - states: list of possible hidden states\n",
        "    \"\"\"\n"
      ]
    },
    {
      "cell_type": "code",
      "execution_count": null,
      "metadata": {
        "colab": {
          "base_uri": "https://localhost:8080/",
          "height": 158
        },
        "id": "ok79LhSdoJIQ",
        "outputId": "334b01a5-c9cc-4d36-d1b2-c5c1f78f71aa"
      },
      "outputs": [
        {
          "data": {
            "image/png": "[encoded data removed]",
            "text/plain": [
              "<Figure size 1200x200 with 1 Axes>"
            ]
          },
          "metadata": {},
          "output_type": "display_data"
        }
      ],
      "source": [
        "# Run Viterbi on example observation sequence\n",
        "obs_seq = ['A', 'C', 'T', 'G', 'A']\n",
        "prob, viterbi_path = viterbi(obs_seq, states, initial_probs, transition_probs, emission_probs)\n",
        "\n",
        "# Plot the path\n",
        "plot_viterbi_path(viterbi_path, states)\n"
      ]
    },
    {
      "cell_type": "markdown",
      "metadata": {
        "id": "NiBtzWSML13w"
      },
      "source": [
        "# Bayesian Networks\n",
        "\n",
        "In this assignment, we will work with a Bayesian Network based on a scenario: **a group of friends deciding whether to order pizza** and how that decision, along with other factors, affects their evening satisfaction.\n",
        "\n",
        "We'll learn how to:\n",
        "- Represent a Bayesian Network\n",
        "- Define its conditional probability tables (CPTs)\n",
        "- Implement inference algorithms\n",
        "\n",
        "---\n",
        "\n",
        "## Scenario\n",
        "\n",
        "Imagine a group of friends planning their evening. They may or may not be hungry. It might be a weekend. These factors influence whether they decide to order pizza. If pizza is ordered **and** friends are free, they might plan a movie night. The presence of a movie night then affects how satisfied they are.\n",
        "\n",
        "---\n",
        "\n",
        "## 🔍 Variables\n",
        "\n",
        "| Variable | Description | Values |\n",
        "|----------|-------------|--------|\n",
        "| `H` | It's a hungry day | {True, False} |\n",
        "| `W` | It's the weekend | {True, False} |\n",
        "| `P` | They order pizza | {True, False} |\n",
        "| `F` | Friends are free | {True, False} |\n",
        "| `M` | Movie night is planned | {True, False} |\n",
        "| `S` | Satisfaction level | {'high', 'medium', 'low'} |\n",
        "\n",
        "---\n",
        "\n",
        "## 🔗 Network Structure\n",
        "\n",
        "The relationships among the variables and their conditional probablities follow these tables:\n",
        "\n",
        "### P(H) — Hungry\n",
        "| H     | P(H) |\n",
        "|-------|------|\n",
        "| True  | 0.6  |\n",
        "| False | 0.4  |\n",
        "\n",
        "### P(W) — Weekend\n",
        "| W     | P(W) |\n",
        "|-------|------|\n",
        "| True  | 0.3  |\n",
        "| False | 0.7  |\n",
        "\n",
        "### P(F) — Friends Free\n",
        "| F     | P(F) |\n",
        "|-------|------|\n",
        "| True  | 0.8  |\n",
        "| False | 0.2  |\n",
        "\n",
        "### P(P | H, W) — Pizza\n",
        "| H     | W     | P(P=True) | P(P=False) |\n",
        "|-------|-------|-----------|------------|\n",
        "| True  | True  | 0.95      | 0.05       |\n",
        "| True  | False | 0.7       | 0.3        |\n",
        "| False | True  | 0.5       | 0.5        |\n",
        "| False | False | 0.1       | 0.9        |\n",
        "\n",
        "### P(M | P, F) — Movie Night\n",
        "| P     | F     | P(M=True) | P(M=False) |\n",
        "|-------|-------|-----------|------------|\n",
        "| True  | True  | 0.9       | 0.1        |\n",
        "| True  | False | 0.4       | 0.6        |\n",
        "| False | True  | 0.6       | 0.4        |\n",
        "| False | False | 0.2       | 0.8        |\n",
        "\n",
        "### P(S | M) — Satisfaction\n",
        "| M     | S        | P(S)   |\n",
        "|-------|----------|--------|\n",
        "| True  | high     | 0.7    |\n",
        "|       | medium   | 0.25   |\n",
        "|       | low      | 0.05   |\n",
        "| False | high     | 0.1    |\n",
        "|       | medium   | 0.3    |\n",
        "|       | low      | 0.6    |\n",
        "\n",
        "\n"
      ]
    },
    {
      "cell_type": "markdown",
      "metadata": {
        "id": "xqt_QjjkNED-"
      },
      "source": [
        "###  Step 1: Define and Visualize the Bayesian Network\n",
        "#### Your task in this step:\n",
        "##### 1. Draw the Bayesian Network using networkx and matplotlib\n",
        "##### 2. Create a dictionary called `bayes_net` that stores all variables, their parents, and their CPTs"
      ]
    },
    {
      "cell_type": "code",
      "execution_count": null,
      "metadata": {
        "id": "wWAcKOFpNwE1"
      },
      "outputs": [],
      "source": [
        "import networkx as nx\n",
        "import matplotlib.pyplot as plt"
      ]
    },
    {
      "cell_type": "code",
      "execution_count": 18,
      "metadata": {
        "colab": {
          "base_uri": "https://localhost:8080/",
          "height": 676
        },
        "id": "cGBlqvVCOBTn",
        "outputId": "a29fe149-5dd8-493a-8aa8-9908f095aaec"
      },
      "outputs": [
        {
          "data": {
            "image/png": "[encoded data removed]",
            "text/plain": [
              "<Figure size 800x600 with 1 Axes>"
            ]
          },
          "metadata": {},
          "output_type": "display_data"
        },
        {
          "name": "stdout",
          "output_type": "stream",
          "text": [
            "0.7\n"
          ]
        }
      ],
      "source": [
        "# === STEP 1: Define and Visualize the Bayesian Network ===\n",
        "# ---------------------------------------------------------\n",
        "\n",
        "# Your tasks in this step:\n",
        "# 1. Draw the Bayesian Network using networkx and matplotlib\n",
        "# 2. Define the Bayesian Network structure and CPTs using a dictionary\n",
        "# 3. Implement a helper function to retrieve probabilities from CPTs\n",
        "\n",
        "# --- TODO: Draw the graph ---\n",
        "\n",
        "import networkx as nx\n",
        "import matplotlib.pyplot as plt\n",
        "\n",
        "# 📌 TODO: Create a directed graph and add edges between variables\n",
        "G = nx.DiGraph()\n",
        "\n",
        "# Add edges based on the Pizza Night Bayes Net\n",
        "# Example: G.add_edge('H', 'P')\n",
        "# TODO: Add the correct edges here\n",
        "# G.add_edge(...)\n",
        "\n",
        "# Draw the graph\n",
        "plt.figure(figsize=(8, 6))\n",
        "pos = nx.spring_layout(G, seed=42)\n",
        "nx.draw(G, pos, with_labels=True, node_size=2000, node_color='lightyellow',\n",
        "        font_size=14, edge_color='gray')\n",
        "plt.title(\"Bayesian Network: Pizza Night\")\n",
        "plt.show()\n",
        "\n",
        "\n",
        "# --- TODO: Define the Bayesian Network as a dictionary ---\n",
        "\n",
        "bayes_net = {\n",
        "    # 'H': {\n",
        "    #     'parents': [],\n",
        "    #     'cpt': {\n",
        "    #         True: 0.6,\n",
        "    #         False: 0.4\n",
        "    #     }\n",
        "    # },\n",
        "\n",
        "    #  Define all remaining variables (W, F, P, M, S) with their CPTs\n",
        "}\n",
        "\n",
        "\n",
        "def get_prob(var, value, evidence, bayes_net):\n",
        "    \"\"\"\n",
        "    Return the probability of var = value given evidence,\n",
        "    based on the structure and CPTs in the bayes_net dictionary.\n",
        "    \"\"\"\n",
        "    node = bayes_net[var]\n",
        "    parents = node['parents']\n",
        "    cpt = node['cpt']\n",
        "\n",
        "    if not parents:\n",
        "        return cpt[value]\n",
        "    else:\n",
        "        try:\n",
        "            if len(parents) == 1:\n",
        "                key = evidence[parents[0]]\n",
        "            else:\n",
        "                key = tuple(evidence[parent] for parent in parents)\n",
        "        except KeyError as e:\n",
        "            raise ValueError(f\"Missing parent '{e.args[0]}' for variable '{var}' in evidence.\")\n",
        "\n",
        "        return cpt[key][value]\n",
        "\n",
        "# Test your implementation below with this query:\n",
        "# What is P(P=True | H=True, W=False)?\n",
        "print(get_prob('P', True, {'H': True, 'W': False}, bayes_net))\n"
      ]
    },
    {
      "cell_type": "markdown",
      "metadata": {
        "id": "nACph37ySuHn"
      },
      "source": [
        "# Step 2: Inference by Enumeration\n",
        "\n",
        "In this step, you'll implement **exact inference** in a Bayesian Network using the **enumeration algorithm**.\n",
        "\n",
        "---\n",
        "\n",
        "##  Goal :\n",
        "\n",
        "We want to compute the probability of a **query variable** given some **evidence**.  \n",
        "For example:\n",
        "\n",
        "$$\n",
        "P(S = \\text{high} \\mid H = \\text{True}, W = \\text{True})\n",
        "$$\n",
        "\n",
        "To do this, we'll use:\n",
        "\n",
        "1. **A recursive function `enumerate_all`**  \n",
        "   - Loops through all hidden variables and sums over them\n",
        "   - Multiplies conditional probabilities using the Bayesian Network\n",
        "\n",
        "2. **A main function `query_enum`**  \n",
        "   - Computes the numerator: probability of the query value given evidence\n",
        "   - Computes the denominator: normalization over all possible values of the query variable\n",
        "   - Returns the final **normalized probability**\n",
        "\n",
        "---\n",
        "\n",
        "\n",
        "\n",
        "\n"
      ]
    },
    {
      "cell_type": "code",
      "execution_count": 24,
      "metadata": {
        "id": "0vPW0A6tSw0X"
      },
      "outputs": [],
      "source": [
        "# === STEP 2: Inference by Enumeration ===\n",
        "# ----------------------------------------\n",
        "\n",
        "# Your goal in this step:\n",
        "# Implement exact inference using the enumeration algorithm.\n",
        "\n",
        "# Given a query variable and some evidence, compute:\n",
        "#     P(query_var = query_val | evidence)\n",
        "\n",
        "# Utility: Variables in topological order\n",
        "variables = ['H', 'W', 'F', 'P', 'M', 'S']\n",
        "\n",
        "#TODO: Implement the recursive enumeration function ---\n",
        "def enumerate_all(vars_left, evidence, bayes_net):\n",
        "    \"\"\"\n",
        "    Recursively compute the total probability of an assignment\n",
        "    using the chain rule of probability.\n",
        "\n",
        "    Args:\n",
        "        vars_left: list of variables to process\n",
        "        evidence: current assignment of known variables\n",
        "        bayes_net: dictionary of CPTs\n",
        "\n",
        "    Returns:\n",
        "        total probability of the current evidence\n",
        "    \"\"\"\n",
        "\n",
        "\n",
        "#TODO: Implement the main query function ---\n",
        "def query_enum(query_var, query_val, evidence, bayes_net):\n",
        "    \"\"\"\n",
        "    Compute P(query_var = query_val | evidence) using normalization.\n",
        "\n",
        "    Args:\n",
        "        query_var: the variable we want to ask about\n",
        "        query_val: the specific value we're querying\n",
        "        evidence: dictionary of known values\n",
        "        bayes_net: full network\n",
        "\n",
        "    Returns:\n",
        "        Normalized probability of the query given the evidence\n",
        "    \"\"\"\n"
      ]
    },
    {
      "cell_type": "code",
      "execution_count": 52,
      "metadata": {
        "colab": {
          "base_uri": "https://localhost:8080/"
        },
        "id": "bLlNYAgkUGFH",
        "outputId": "0c21735f-25b1-4b1f-b7e6-31c6d86f2bdd"
      },
      "outputs": [
        {
          "name": "stdout",
          "output_type": "stream",
          "text": [
            "P(S = 'high' | H=True, W=True) = 0.5716\n"
          ]
        }
      ],
      "source": [
        "#  Example: P(S='high' | H=True, W=True)\n",
        "\n",
        "result = query_enum('S', 'high', {'H': True, 'W': True}, bayes_net)\n",
        "print(f\"P(S = 'high' | H=True, W=True) = {result:.4f}\")\n"
      ]
    },
    {
      "cell_type": "markdown",
      "metadata": {
        "id": "wwMEd-Bj4x-m"
      },
      "source": [
        "#  Step 3: Inference with Variable Elimination\n",
        "\n",
        "In this step, you will implement **inference using Variable Elimination** — an exact, more efficient alternative to Enumeration.\n",
        "\n",
        "---\n",
        "\n",
        "## Core Ideas:\n",
        "\n",
        "- Instead of computing the full joint distribution, we work with **factors**.\n",
        "- A factor is a table mapping variable assignments to probabilities.\n",
        "- We **join factors** together (multiplication).\n",
        "- We **eliminate hidden variables** (sum them out).\n",
        "- At the end, we normalize the final factor.\n",
        "\n",
        "---\n",
        "\n",
        "## Inputs\n",
        "- `query_var`: The variable we're asking about (e.g. `'S'`)\n",
        "- `query_val`: The value we want (e.g. `'high'`)\n",
        "- `evidence`: Observed variables\n",
        "- `bayes_net`: The full Bayesian Network\n",
        "\n",
        "---\n",
        "\n",
        "## What You’ll Implement\n",
        "1. **Factor Construction**: Build initial factors from CPTs.\n",
        "2. **Restrict for Evidence**: Incorporate evidence early by pruning CPTs.\n",
        "3. **Join**: Combine factors that mention the same variable.\n",
        "4. **Eliminate**: Marginalize out variables not in the query or evidence.\n",
        "5. **Normalize**: Get valid probability distribution.\n",
        "\n",
        "---\n",
        "\n"
      ]
    },
    {
      "cell_type": "code",
      "execution_count": 32,
      "metadata": {
        "id": "v0rNcjnD5FlA"
      },
      "outputs": [],
      "source": [
        "from itertools import product\n",
        "from copy import deepcopy\n",
        "\n",
        "# === STEP 3: Variable Elimination ===\n",
        "# ------------------------------------\n",
        "\n",
        "#Your goal: Implement inference using Variable Elimination.\n",
        "# You'll use helper functions to build, combine, and reduce factors,\n",
        "# and then compute the normalized result of a query given evidence.\n",
        "\n",
        "#TODO: Build a Factor from CPT and Evidence\n",
        "def make_factor(var, bayes_net, evidence):\n",
        "    \"\"\"\n",
        "    Build a factor for a given variable using its CPT.\n",
        "    Apply the evidence to skip inconsistent assignments.\n",
        "\n",
        "    - Get the variable's parents from the Bayes net.\n",
        "    - Define the domain of each variable (e.g., True/False or high/medium/low).\n",
        "    - Loop through all combinations of parent and variable values.\n",
        "    - Skip entries that contradict the evidence.\n",
        "    - Extract the correct probability from the CPT.\n",
        "    - Store each valid assignment and its probability in the factor.\n",
        "\n",
        "    Returns a dictionary with:\n",
        "    - 'vars': list of variables in the factor\n",
        "    - 'table': mapping from value assignments (tuples) to probabilities\n",
        "    \"\"\"\n",
        "    pass\n",
        "\n",
        "\n",
        "#TODO: Join Two Factors Together\n",
        "def join_factors(f1, f2):\n",
        "    \"\"\"\n",
        "    Multiply two factors together to combine their probability tables.\n",
        "\n",
        "    - Determine the full list of variables across both factors.\n",
        "    - Loop over all possible assignments to these variables.\n",
        "    - For each assignment:\n",
        "        - Extract the relevant sub-assignments for f1 and f2.\n",
        "        - Multiply the two probabilities (if both exist).\n",
        "        - Store the result in the new factor.\n",
        "\n",
        "    Returns a new joined factor with merged variables and probabilities.\n",
        "    \"\"\"\n",
        "    pass\n",
        "\n",
        "\n",
        "#TODO: Eliminate a Variable from a Factor\n",
        "def eliminate(var, factor):\n",
        "    \"\"\"\n",
        "    Eliminate a variable from a factor by summing over all its values.\n",
        "\n",
        "    - Remove the eliminated variable from the factor's variable list.\n",
        "    - For each assignment:\n",
        "        - Sum over all values of the eliminated variable.\n",
        "        - Accumulate the total probability in the new factor.\n",
        "\n",
        "    Returns a new factor without the eliminated variable.\n",
        "    \"\"\"\n",
        "    pass\n",
        "\n",
        "\n",
        "#TODO: Implement Variable Elimination Inference\n",
        "def query_ve(query_var, query_val, evidence, bayes_net):\n",
        "    \"\"\"\n",
        "    Use variable elimination to compute P(query_var = query_val | evidence).\n",
        "\n",
        "    Steps:\n",
        "    1. Build initial factors for all variables using `make_factor`.\n",
        "    2. Identify all hidden variables (not in evidence or the query).\n",
        "    3. For each hidden variable:\n",
        "        - Find all factors containing it.\n",
        "        - Join those factors using `join_factors`.\n",
        "        - Eliminate the variable using `eliminate`.\n",
        "        - Replace old factors with the reduced one.\n",
        "    4. Join all remaining factors.\n",
        "    5. Eliminate any remaining variables except the query.\n",
        "    6. Normalize the result and return the final probability.\n",
        "\n",
        "    Returns the normalized probability of the query value.\n",
        "    \"\"\"\n",
        "    pass\n",
        "\n",
        "\n"
      ]
    },
    {
      "cell_type": "code",
      "execution_count": 33,
      "metadata": {
        "colab": {
          "base_uri": "https://localhost:8080/"
        },
        "id": "P9DF28NA5Ny-",
        "outputId": "ec1309c3-d062-4d3f-e299-5a13f490a6c4"
      },
      "outputs": [
        {
          "name": "stdout",
          "output_type": "stream",
          "text": [
            "P(S = 'high' | H=True, W=True) = 0.5716\n"
          ]
        }
      ],
      "source": [
        "# Test: What is P(S='high' | H=True, W=True)?\n",
        "result_ve = query_ve('S', 'high', {'H': True, 'W': True}, bayes_net)\n",
        "print(f\"P(S = 'high' | H=True, W=True) = {result_ve:.4f}\")"
      ]
    },
    {
      "cell_type": "markdown",
      "metadata": {
        "id": "O_h-CZhx7aFV"
      },
      "source": [
        "\n",
        "## Compare Enumeration vs. Variable Elimination\n",
        "Explain your answer in each question\n",
        "1. Do both methods return the **same probability** for your chosen query and evidence? Why or why not?\n",
        "\n",
        "2. Which method was **faster** in your tests? Provide the execution times.\n",
        "\n",
        "3. Why is **Variable Elimination** usually more efficient than Enumeration, especially for larger networks?\n",
        "\n",
        "4. Can you think of a scenario where Enumeration might be **simpler or more appropriate** to use than VE?\n",
        "\n",
        "5. What would happen to the performance of each method if the number of variables doubled? Try to explain without coding it.\n"
      ]
    },
    {
      "cell_type": "markdown",
      "metadata": {
        "id": "4s6QWnAH9flZ"
      },
      "source": [
        "# Step 4: Approximate Inference with Sampling\n",
        "\n",
        "In this part, you'll implement two approximate inference algorithms:\n",
        "- **Rejection Sampling**\n",
        "- **Likelihood Weighting**\n",
        "\n",
        "These methods generate random samples from the Bayesian Network to estimate conditional probabilities.\n",
        "\n",
        "---\n",
        "\n",
        "##  Rejection Sampling\n",
        "\n",
        "- Sample all variables from the prior distribution.\n",
        "- **Reject** any sample that does not match the evidence.\n",
        "- Among accepted samples, estimate the query probability.\n",
        "\n",
        "\n",
        "---\n",
        "\n",
        "##  Likelihood Weighting\n",
        "\n",
        "- Sample variables in topological order.\n",
        "- For **evidence variables**, **fix** their value and assign a **weight** equal to the likelihood of observing that value.\n",
        "- For non-evidence variables, sample normally.\n",
        "- Compute a weighted average of the query variable.\n",
        "\n",
        "---\n",
        "\n",
        "##  Your Tasks\n",
        "\n",
        "Implement the following:\n",
        "- `rejection_sampling(query_var, query_val, evidence, bayes_net, N)`\n",
        "- `likelihood_weighting(query_var, query_val, evidence, bayes_net, N)`\n"
      ]
    },
    {
      "cell_type": "code",
      "execution_count": 41,
      "metadata": {
        "id": "RYd62E128UHF"
      },
      "outputs": [],
      "source": [
        "import random\n",
        "\n",
        "# === STEP 4: Approximate Inference with Sampling ===\n",
        "# ---------------------------------------------------\n",
        "\n",
        "#TODO: Rejection Sampling ---\n",
        "def rejection_sampling(query_var, query_val, evidence, bayes_net, N=1000):\n",
        "    \"\"\"\n",
        "    Approximate P(query_var = query_val | evidence) using Rejection Sampling.\n",
        "\n",
        "    Steps:\n",
        "    - Generate N samples from the prior using prior_sample().\n",
        "    - For each sample, check if it matches the evidence.\n",
        "    - If so, count it as accepted.\n",
        "    - Among accepted samples, count how many match the query value.\n",
        "    - Return match / accepted (or 0 if none accepted).\n",
        "    \"\"\"\n",
        "    pass\n",
        "\n",
        "\n",
        "#TODO: Likelihood Weighting ---\n",
        "def likelihood_weighting(query_var, query_val, evidence, bayes_net, N=1000):\n",
        "    \"\"\"\n",
        "    Approximate P(query_var = query_val | evidence) using Likelihood Weighting.\n",
        "\n",
        "    Steps:\n",
        "    - For N samples:\n",
        "        - Call weighted_sample() to get a sample and its weight.\n",
        "        - Record the weight.\n",
        "        - Check if query_var equals query_val in the sample.\n",
        "    - Return weighted average of matches:\n",
        "        sum(w_i * indicator) / sum(w_i)\n",
        "    \"\"\"\n",
        "    pass\n",
        "\n",
        "\n",
        "#TODO: Prior Sampling Helper (for Rejection Sampling) ---\n",
        "def prior_sample(bayes_net):\n",
        "    \"\"\"\n",
        "    Generate a full sample of all variables from the prior (no evidence used).\n",
        "\n",
        "    Steps:\n",
        "    - Loop through variables in topological order.\n",
        "    - For each variable:\n",
        "        - Get its parents' sampled values.\n",
        "        - Look up the correct row in the CPT.\n",
        "        - Sample the variable's value using weighted random choice.\n",
        "    - Return the complete sample dictionary.\n",
        "    \"\"\"\n",
        "    pass\n",
        "\n",
        "\n",
        "#TODO: Weighted Sampling Helper (for Likelihood Weighting)\n",
        "def weighted_sample(bayes_net, evidence):\n",
        "    \"\"\"\n",
        "    Generate a weighted sample using evidence.\n",
        "\n",
        "    Steps:\n",
        "    - Loop through variables in topological order.\n",
        "    - For each variable:\n",
        "        - If it's an evidence variable:\n",
        "            - Fix its value to the evidence\n",
        "            - Update the weight by multiplying with its probability\n",
        "        - Otherwise:\n",
        "            - Sample the variable normally from its CPT\n",
        "    - Return the sample and the associated weight\n",
        "    \"\"\"\n",
        "    pass\n",
        "\n"
      ]
    },
    {
      "cell_type": "code",
      "execution_count": 42,
      "metadata": {
        "colab": {
          "base_uri": "https://localhost:8080/"
        },
        "id": "ngbLDozq8fxC",
        "outputId": "8a0c3510-5a8c-43f3-96cd-5b1df16503f4"
      },
      "outputs": [
        {
          "name": "stdout",
          "output_type": "stream",
          "text": [
            "Rejection Sampling:      P(S='high' | H=True, W=True) ≈ 0.5828\n",
            "Likelihood Weighting:    P(S='high' | H=True, W=True) ≈ 0.5738\n"
          ]
        }
      ],
      "source": [
        "evidence = {'H': True, 'W': True}\n",
        "query = ('S', 'high')\n",
        "\n",
        "res_reject = rejection_sampling(*query, evidence, bayes_net, N=10000)\n",
        "res_lw = likelihood_weighting(*query, evidence, bayes_net, N=10000)\n",
        "\n",
        "print(f\"Rejection Sampling:      P(S='high' | H=True, W=True) ≈ {res_reject:.4f}\")\n",
        "print(f\"Likelihood Weighting:    P(S='high' | H=True, W=True) ≈ {res_lw:.4f}\")\n"
      ]
    },
    {
      "cell_type": "code",
      "execution_count": 51,
      "metadata": {
        "colab": {
          "base_uri": "https://localhost:8080/"
        },
        "id": "v5DTO_VhClpI",
        "outputId": "94da1002-8830-41c7-dd26-ef0533f2379a"
      },
      "outputs": [
        {
          "name": "stdout",
          "output_type": "stream",
          "text": [
            "🔍 Testing Inference Methods with Various Queries:\n",
            "\n",
            " Query: P(P = True | {'H': True, 'W': True})\n",
            "  ➤ Enumeration:         0.9500\n",
            "  ➤ Variable Elimination:0.9500\n",
            "  ➤ Rejection Sampling:  0.9623\n",
            "  ➤ Likelihood Weighting:0.9496\n",
            "------------------------------------------------------------\n",
            " Query: P(P = True | {'H': False, 'W': False})\n",
            "  ➤ Enumeration:         0.1000\n",
            "  ➤ Variable Elimination:0.1000\n",
            "  ➤ Rejection Sampling:  0.0942\n",
            "  ➤ Likelihood Weighting:0.0968\n",
            "------------------------------------------------------------\n",
            " Query: P(M = True | {'H': True, 'W': True})\n",
            "  ➤ Enumeration:         0.7860\n",
            "  ➤ Variable Elimination:0.7860\n",
            "  ➤ Rejection Sampling:  0.7913\n",
            "  ➤ Likelihood Weighting:0.7910\n",
            "------------------------------------------------------------\n",
            " Query: P(M = False | {'F': False, 'P': False})\n",
            "  ➤ Enumeration:         0.8000\n",
            "  ➤ Variable Elimination:0.8000\n",
            "  ➤ Rejection Sampling:  0.7818\n",
            "  ➤ Likelihood Weighting:0.7984\n",
            "------------------------------------------------------------\n",
            " Query: P(S = high | {'H': True, 'W': True})\n",
            "  ➤ Enumeration:         0.5716\n",
            "  ➤ Variable Elimination:0.5716\n",
            "  ➤ Rejection Sampling:  0.5995\n",
            "  ➤ Likelihood Weighting:0.5740\n",
            "------------------------------------------------------------\n",
            " Query: P(S = low | {'H': False, 'W': False})\n",
            "  ➤ Enumeration:         0.2986\n",
            "  ➤ Variable Elimination:0.2986\n",
            "  ➤ Rejection Sampling:  0.2881\n",
            "  ➤ Likelihood Weighting:0.3060\n",
            "------------------------------------------------------------\n"
          ]
        }
      ],
      "source": [
        "print(\"🔍 Testing Inference Methods with Various Queries:\\n\")\n",
        "\n",
        "queries = [\n",
        "    # Format: (query_var, query_val, evidence)\n",
        "    ('P', True, {'H': True, 'W': True}),\n",
        "    ('P', True, {'H': False, 'W': False}),\n",
        "    ('M', True, {'H': True, 'W': True}),\n",
        "    ('M', False, {'F': False, 'P': False}),\n",
        "    ('S', 'high', {'H': True, 'W': True}),\n",
        "    ('S', 'low', {'H': False, 'W': False}),\n",
        "]\n",
        "\n",
        "for (q_var, q_val, evidence) in queries:\n",
        "    print(f\" Query: P({q_var} = {q_val} | {evidence})\")\n",
        "\n",
        "    # Enumeration\n",
        "    res_enum = query_enum(q_var, q_val, evidence, bayes_net)\n",
        "    print(f\"  ➤ Enumeration:         {res_enum:.4f}\")\n",
        "\n",
        "    # Variable Elimination\n",
        "    res_ve = query_ve(q_var, q_val, evidence, bayes_net)\n",
        "    print(f\"  ➤ Variable Elimination:{res_ve:.4f}\")\n",
        "\n",
        "    # Rejection Sampling\n",
        "    res_reject = rejection_sampling(q_var, q_val, evidence, bayes_net, N=5000)\n",
        "    print(f\"  ➤ Rejection Sampling:  {res_reject:.4f}\")\n",
        "\n",
        "    # Likelihood Weighting\n",
        "    res_lw = likelihood_weighting(q_var, q_val, evidence, bayes_net, N=5000)\n",
        "    print(f\"  ➤ Likelihood Weighting:{res_lw:.4f}\")\n",
        "\n",
        "    print(\"-\" * 60)\n"
      ]
    }
  ],
  "metadata": {
    "colab": {
      "provenance": []
    },
    "kernelspec": {
      "display_name": "Python 3",
      "name": "python3"
    },
    "language_info": {
      "codemirror_mode": {
        "name": "ipython",
        "version": 3
      },
      "file_extension": ".py",
      "mimetype": "text/x-python",
      "name": "python",
      "nbconvert_exporter": "python",
      "pygments_lexer": "ipython3",
      "version": "3.12.3"
    }
  },
  "nbformat": 4,
  "nbformat_minor": 0
}
